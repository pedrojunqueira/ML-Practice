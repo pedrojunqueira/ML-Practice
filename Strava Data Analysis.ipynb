{
 "cells": [
  {
   "cell_type": "markdown",
   "metadata": {},
   "source": [
    "# Analysing Strava Activity data\n",
    "\n",
    "For a long time I am trying to connect to my strava data to do some data analysis and finally I nailed.\n",
    "\n",
    "It took me hours and hours to learn python and various packages and finally it I did it.\n",
    "\n",
    "I have to thank the HTPP services training I took with Talk Python to Me\n",
    "\n",
    "https://training.talkpython.fm/courses/details/consuming-http-and-soap-services-in-python-with-json-xml-and-screen-scraping\n",
    "\n",
    "And also for finding the StravaIO package in github that Maksym Sladkov created. It is on Github at\n",
    "\n",
    "https://github.com/sladkovm/stravaio\n",
    "\n",
    "and also can be intalled from pypi https://pypi.org/project/stravaio/\n",
    "\n",
    "Still had to find a work around in a class method that was not working as planned as I could not wait for the issue to be resolved in github. So this was also kind of my first contribution to a open source project in a way\n",
    "\n",
    "If you ever struggled to get you data from strava using python you can use the code below\n",
    "\n",
    "After that I intend to do some EDA with the data and model the data to make predictions\n",
    "\n",
    "The lessons learned from programming is never stop if you hit a wall because those are the momment you learn the most.\n"
   ]
  },
  {
   "cell_type": "code",
   "execution_count": null,
   "metadata": {},
   "outputs": [],
   "source": [
    "from stravaio import strava_oauth2\n",
    "import os\n",
    "from stravaio import StravaIO\n",
    "import pandas as pd\n",
    "from collections import defaultdict\n",
    "\n",
    "import swagger_client\n",
    "from swagger_client.rest import ApiException\n"
   ]
  },
  {
   "cell_type": "code",
   "execution_count": null,
   "metadata": {},
   "outputs": [],
   "source": [
    "#importing strava API client id and secret from local environment\n",
    "strava_client_id = os.environ.get('client_id')\n",
    "\n",
    "strava_client_secret = os.environ.get('client_secret')\n"
   ]
  },
  {
   "cell_type": "code",
   "execution_count": null,
   "metadata": {},
   "outputs": [],
   "source": [
    "#authentication with Strava API\n",
    "# will take to strava client and will required authorisation from athlete \n",
    "\n",
    "oauth_res = strava_oauth2(client_id=strava_client_id, client_secret=strava_client_secret)"
   ]
  },
  {
   "cell_type": "code",
   "execution_count": null,
   "metadata": {},
   "outputs": [],
   "source": [
    "# store access token in variable\n",
    "STRAVA_ACCESS_TOKEN = oauth_res['access_token']"
   ]
  },
  {
   "cell_type": "code",
   "execution_count": null,
   "metadata": {},
   "outputs": [],
   "source": [
    "#instatiate stravaio constructor\n",
    "\n",
    "client = StravaIO(access_token=STRAVA_ACCESS_TOKEN)"
   ]
  },
  {
   "cell_type": "code",
   "execution_count": null,
   "metadata": {},
   "outputs": [],
   "source": [
    "# get logged in athlete and load into a dictionary object\n",
    "athlete = client.get_logged_in_athlete()\n",
    "\n",
    "athlete_dict = athlete.to_dict()"
   ]
  },
  {
   "cell_type": "code",
   "execution_count": null,
   "metadata": {},
   "outputs": [],
   "source": [
    "athlete"
   ]
  },
  {
   "cell_type": "code",
   "execution_count": null,
   "metadata": {},
   "outputs": [],
   "source": [
    "athlete_dict"
   ]
  },
  {
   "cell_type": "code",
   "execution_count": null,
   "metadata": {},
   "outputs": [],
   "source": [
    "# time stamp to request activity in epoch time \n",
    "# use this converter to get the date: https://www.epochconverter.com/\n",
    "\n",
    "timestamp=1420095429"
   ]
  },
  {
   "cell_type": "code",
   "execution_count": null,
   "metadata": {},
   "outputs": [],
   "source": [
    "# Configure swagger client\n",
    "access_token = STRAVA_ACCESS_TOKEN\n",
    "\n",
    "configuration = swagger_client.Configuration()\n",
    "configuration.access_token = access_token\n",
    "_api_client = swagger_client.ApiClient(configuration)\n",
    "athletes_api = swagger_client.AthletesApi(_api_client)\n",
    "activities_api = swagger_client.ActivitiesApi(_api_client)\n"
   ]
  },
  {
   "cell_type": "code",
   "execution_count": null,
   "metadata": {},
   "outputs": [],
   "source": [
    "# get request of activities\n",
    "\n",
    "#import paginated\n",
    "\n",
    "list_activities = []\n",
    "after = timestamp\n",
    "page = 1\n",
    "while page <= 14:\n",
    "    _fetched = activities_api.get_logged_in_athlete_activities(after=after, page=page, per_page=100)\n",
    "    list_activities.extend(_fetched)\n",
    "    print(f\"Fetched {len(_fetched)}, between {_fetched[0].start_date} and {_fetched[-1].start_date}\")\n",
    "    page += 1\n",
    "    if len(_fetched) <100:\n",
    "        break\n"
   ]
  },
  {
   "cell_type": "code",
   "execution_count": null,
   "metadata": {},
   "outputs": [],
   "source": [
    "\n",
    "print(f'total activities fetched were {len(list_activities)}')"
   ]
  },
  {
   "cell_type": "code",
   "execution_count": null,
   "metadata": {},
   "outputs": [],
   "source": [
    "# transform swagger dict object into nested python dictionary\n",
    "\n",
    "nested_dict={}\n",
    "for i,d in enumerate(list_activities):\n",
    "    nested_dict[i]=d.to_dict()\n"
   ]
  },
  {
   "cell_type": "code",
   "execution_count": null,
   "metadata": {},
   "outputs": [],
   "source": [
    "# merge nested dictionaries into one with list of values for each key\n",
    "dd = defaultdict(list)\n",
    "\n",
    "for d in nested_dict.values():\n",
    "    for k, v in d.items():\n",
    "        dd[k].append(v)\n"
   ]
  },
  {
   "cell_type": "code",
   "execution_count": null,
   "metadata": {},
   "outputs": [],
   "source": [
    "# create a pandas dataframe with downloaded activities\n",
    "\n",
    "activities_df = pd.DataFrame(dd)"
   ]
  },
  {
   "cell_type": "code",
   "execution_count": null,
   "metadata": {},
   "outputs": [],
   "source": [
    "activities_df.head()"
   ]
  },
  {
   "cell_type": "code",
   "execution_count": null,
   "metadata": {},
   "outputs": [],
   "source": [
    "activities_df.shape"
   ]
  },
  {
   "cell_type": "code",
   "execution_count": null,
   "metadata": {},
   "outputs": [],
   "source": [
    "#save activities_df.to_csv() for backup in the local directory\n",
    "\n",
    "activities_df.to_csv('{}/strava_data.csv'.format(os.getcwd()))\n",
    "\n"
   ]
  },
  {
   "cell_type": "code",
   "execution_count": null,
   "metadata": {},
   "outputs": [],
   "source": [
    "activities_df.columns"
   ]
  },
  {
   "cell_type": "code",
   "execution_count": null,
   "metadata": {},
   "outputs": [],
   "source": [
    "activities_df.info()"
   ]
  },
  {
   "cell_type": "code",
   "execution_count": null,
   "metadata": {},
   "outputs": [],
   "source": [
    "activities_df.describe()"
   ]
  },
  {
   "cell_type": "code",
   "execution_count": null,
   "metadata": {},
   "outputs": [],
   "source": []
  }
 ],
 "metadata": {
  "kernelspec": {
   "display_name": "Python [conda env:flaskenv] *",
   "language": "python",
   "name": "conda-env-flaskenv-py"
  },
  "language_info": {
   "codemirror_mode": {
    "name": "ipython",
    "version": 3
   },
   "file_extension": ".py",
   "mimetype": "text/x-python",
   "name": "python",
   "nbconvert_exporter": "python",
   "pygments_lexer": "ipython3",
   "version": "3.7.3"
  }
 },
 "nbformat": 4,
 "nbformat_minor": 2
}
